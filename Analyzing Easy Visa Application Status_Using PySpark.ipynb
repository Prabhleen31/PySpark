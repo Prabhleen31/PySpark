{
 "cells": [
  {
   "cell_type": "code",
   "execution_count": null,
   "id": "9c550278",
   "metadata": {},
   "outputs": [],
   "source": [
    "# 0.0 The following image displays data-processing pipeline\n",
    "from IPython.display import Image\n",
    "Image(filename='spark_ml_pipeline.png') "
   ]
  }
 ],
 "metadata": {
  "kernelspec": {
   "display_name": "Python 3 (ipykernel)",
   "language": "python",
   "name": "python3"
  },
  "language_info": {
   "codemirror_mode": {
    "name": "ipython",
    "version": 3
   },
   "file_extension": ".py",
   "mimetype": "text/x-python",
   "name": "python",
   "nbconvert_exporter": "python",
   "pygments_lexer": "ipython3",
   "version": "3.9.12"
  }
 },
 "nbformat": 4,
 "nbformat_minor": 5
}
